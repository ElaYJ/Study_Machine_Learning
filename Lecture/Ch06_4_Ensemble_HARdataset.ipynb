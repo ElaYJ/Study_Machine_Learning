{
 "cells": [
  {
   "cell_type": "markdown",
   "metadata": {},
   "source": [
    "# 앙상블 기법 예제"
   ]
  },
  {
   "cell_type": "markdown",
   "metadata": {},
   "source": [
    "\n",
    "# HAR, Human Activity Recognition\n",
    "\n",
    "> IMU 센서(폰에 있는 가속도/자이로 센서 사용)를 활용해서 사람의 행동을 인식하는 실험\n",
    "\n",
    "<img src=\"https://github.com/ElaYJ/Study_Machine_Learning/assets/153154981/905ec6f8-a32b-45b8-ac7a-49aa95b4b99e\" width=\"35%\" height=\"35%\"></br>\n",
    "\n",
    "- [데이터 공식 경로](https://archive.ics.uci.edu/dataset/240/human+activity+recognition+using+smartphones)\n",
    "\n",
    "- 데어터 소개\n",
    "\n",
    "\t<img src=\"https://github.com/ElaYJ/Study_Machine_Learning/assets/153154981/0a93fb88-90b1-49a8-9888-2955cc89b167\" width=\"67%\" height=\"67%\"></br>\n",
    "\n",
    "- 데이터 특성\n",
    "\n",
    "\t<img src=\"https://github.com/ElaYJ/Study_Machine_Learning/assets/153154981/63c87536-1702-4ceb-9834-048eccd69d8a\" width=\"67%\" height=\"67%\"></br>"
   ]
  },
  {
   "cell_type": "markdown",
   "metadata": {},
   "source": [
    "### --▶ HAR dataset"
   ]
  },
  {
   "cell_type": "code",
   "execution_count": null,
   "metadata": {},
   "outputs": [],
   "source": [
    "import pandas as pd\n",
    "\n",
    "url = \"https://raw.githubusercontent.com/PinkWink/ML_tutorial/master/dataset/HAR_dataset/features.txt\"\n",
    "\n",
    "feature_name_df = pd.read_csv(url, )"
   ]
  }
 ],
 "metadata": {
  "kernelspec": {
   "display_name": "ds_study",
   "language": "python",
   "name": "python3"
  },
  "language_info": {
   "name": "python",
   "version": "3.8.18"
  }
 },
 "nbformat": 4,
 "nbformat_minor": 2
}
