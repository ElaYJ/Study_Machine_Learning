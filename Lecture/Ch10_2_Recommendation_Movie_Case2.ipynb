{
 "cells": [
  {
   "cell_type": "markdown",
   "metadata": {},
   "source": [
    "# 영화 추천 시스템 : 최근접 이웃 협업 필터링 방식 사용\n",
    "\n",
    "- 축적된 사용자 행동 데이터를 기반으로 사용자가 아직 평가하지 않은 아이템을 예측 평가\n",
    "\n",
    "- 사용자기반 : 당신과 비슷한 고객들이 다음 상품도 구매했음"
   ]
  },
  {
   "cell_type": "code",
   "execution_count": null,
   "metadata": {},
   "outputs": [],
   "source": []
  }
 ],
 "metadata": {
  "language_info": {
   "name": "python"
  }
 },
 "nbformat": 4,
 "nbformat_minor": 2
}
